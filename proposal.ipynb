{
 "cells": [
  {
   "cell_type": "code",
   "execution_count": null,
   "metadata": {},
   "outputs": [],
   "source": [
    "import numpy as np\n",
    "import random\n",
    "import functools"
   ]
  },
  {
   "cell_type": "code",
   "execution_count": null,
   "metadata": {},
   "outputs": [],
   "source": [
    "class Literal:\n",
    "\n",
    "    def __init__(self, A, B, c):\n",
    "        self.A, self.B, self.c = A, B, c\n",
    "\n",
    "        # todo: add parameters for A and B\n",
    "    \n",
    "    def evaluate(self, data):\n",
    "        return data[self.A] > self.c * data[self.B]\n",
    "    \n",
    "    def __str__(self):\n",
    "        return f'{self.A} > {self.c:.3f}*{self.B}'"
   ]
  },
  {
   "cell_type": "code",
   "execution_count": null,
   "metadata": {},
   "outputs": [],
   "source": [
    "data = list(range(10))\n",
    "\n",
    "S = 10\n",
    "\n",
    "# example solution \"arr\"\n",
    "arr = np.array([[Literal(len(data)) for _ in range(S)] for _ in range(S)])"
   ]
  },
  {
   "cell_type": "code",
   "execution_count": null,
   "metadata": {},
   "outputs": [],
   "source": [
    "# for printing\n",
    "ands = map(lambda gene: ' || '.join(str(g) for g in gene), arr)\n",
    "final = ' && '.join(f'[ {an} ]' for an in ands)\n",
    "\n",
    "final"
   ]
  },
  {
   "cell_type": "code",
   "execution_count": null,
   "metadata": {},
   "outputs": [],
   "source": [
    "# vecotrize the evaluate operation (propably overkill but won't make it slower)\n",
    "eval_vec = np.vectorize(lambda lit: lit.evaluate(data))"
   ]
  },
  {
   "cell_type": "code",
   "execution_count": null,
   "metadata": {},
   "outputs": [],
   "source": [
    "# evaluate ORs in axis 1 and AND in axis 0\n",
    "np.all(np.any(eval_vec(arr), axis = 1))"
   ]
  },
  {
   "attachments": {},
   "cell_type": "markdown",
   "metadata": {},
   "source": [
    "Proposal for more general approach:\n",
    "\n",
    "\tSolution is an OR chain [GENE1, GENE2, GENE3, GENE4, ...], where GENEX is \n",
    "\tan AND chain of [LIT, LIT, LIT, LIT, ...] and LIT is a function IND > c*IND.\n",
    "\n",
    "\tWe could have a max size for Solutions and max size for GENEs. \n",
    "\n",
    "\tclass Solution:\n",
    "\t\t--> property) genes: list[GENE]\n",
    "\t\n",
    "\tclass GENE:\n",
    "\t\t--> property) literals: list[Literal]\n",
    "\t\n",
    "\tclass Literal:\n",
    "\t\t--> property) A -> string\n",
    "\t\t--> property) B -> string\n",
    "\t\t--> properrty) C -> float\n",
    "\n",
    "\t\t--> function) call(df_row) -> (df_row[A] > c*df_row[B])\n",
    "\t\n",
    "\t^ Just ideas they don't have to be classes.\n",
    "\n",
    "\tWe could implement a crossover / mutation in each.\n",
    "\n",
    "\tSince there is a fixed size for each solution (max_gene_len * max_literal_len)\n",
    "\teach could even be represented by an array.\n",
    "\n",
    "\t (A > b*C)\t(D > e*f)\t(G > h*I) ...\n",
    "\t (J > k*L)\t(M > n*O)\t(P > q*R) ...\n",
    "\t (S > t*U)\t(V > w*X)\t(Y > z*(AA))\n",
    "\t .\n",
    "\t .\n",
    "\t .\n",
    "\n",
    "\t Which could be expressed as a string \n",
    "\n",
    "\tSolution =  [A > b*C OR D > e*f OR G > h*I OR ...] AND [J > k*L OR M > n*O OR P > q*R OR ...] AND [S > t*U OR V > w*X OR Y > z*(AA) OR ...] AND ...\n",
    "\n",
    "\tEvalution could be vectorised on this array (using numpy.vectorize) to be faster than O(n^2)"
   ]
  }
 ],
 "metadata": {
  "kernelspec": {
   "display_name": "base",
   "language": "python",
   "name": "python3"
  },
  "language_info": {
   "codemirror_mode": {
    "name": "ipython",
    "version": 3
   },
   "file_extension": ".py",
   "mimetype": "text/x-python",
   "name": "python",
   "nbconvert_exporter": "python",
   "pygments_lexer": "ipython3",
   "version": "3.8.12"
  },
  "orig_nbformat": 4
 },
 "nbformat": 4,
 "nbformat_minor": 2
}
