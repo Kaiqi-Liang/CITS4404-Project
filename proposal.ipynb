{
 "cells": [
  {
   "cell_type": "code",
   "execution_count": null,
   "metadata": {},
   "outputs": [],
   "source": [
    "import numpy as np\n",
    "import random\n",
    "import functools"
   ]
  },
  {
   "cell_type": "code",
   "execution_count": null,
   "metadata": {},
   "outputs": [],
   "source": [
    "class Literal:\n",
    "\n",
    "    def __init__(self, A, B, c):\n",
    "        self.A, self.B, self.c = A, B, c\n",
    "\n",
    "        # todo: add parameters for A and B\n",
    "    \n",
    "    def evaluate(self, data):\n",
    "        return data[self.A] > self.c * data[self.B]\n",
    "    \n",
    "    def __str__(self):\n",
    "        return f'{self.A} > {self.c:.3f}*{self.B}'"
   ]
  },
  {
   "cell_type": "code",
   "execution_count": null,
   "metadata": {},
   "outputs": [],
   "source": [
    "data = list(range(10))\n",
    "\n",
    "S = 10\n",
    "\n",
    "# example solution \"arr\"\n",
    "arr = np.array([[Literal(len(data)) for _ in range(S)] for _ in range(S)])"
   ]
  },
  {
   "cell_type": "code",
   "execution_count": null,
   "metadata": {},
   "outputs": [],
   "source": [
    "# for printing\n",
    "ands = map(lambda gene: ' || '.join(str(g) for g in gene), arr)\n",
    "final = ' && '.join(f'[ {an} ]' for an in ands)\n",
    "\n",
    "final"
   ]
  },
  {
   "cell_type": "code",
   "execution_count": null,
   "metadata": {},
   "outputs": [],
   "source": [
    "# vecotrize the evaluate operation (propably overkill but won't make it slower)\n",
    "eval_vec = np.vectorize(lambda lit: lit.evaluate(data))"
   ]
  },
  {
   "cell_type": "code",
   "execution_count": null,
   "metadata": {},
   "outputs": [],
   "source": [
    "# evaluate ORs in axis 1 and AND in axis 0\n",
    "np.all(np.any(eval_vec(arr), axis = 1))"
   ]
  }
 ],
 "metadata": {
  "kernelspec": {
   "display_name": "base",
   "language": "python",
   "name": "python3"
  },
  "language_info": {
   "codemirror_mode": {
    "name": "ipython",
    "version": 3
   },
   "file_extension": ".py",
   "mimetype": "text/x-python",
   "name": "python",
   "nbconvert_exporter": "python",
   "pygments_lexer": "ipython3",
   "version": "3.8.12"
  },
  "orig_nbformat": 4
 },
 "nbformat": 4,
 "nbformat_minor": 2
}
